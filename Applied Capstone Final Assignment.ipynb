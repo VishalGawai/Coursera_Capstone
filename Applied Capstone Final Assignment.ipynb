{
 "cells": [
  {
   "cell_type": "markdown",
   "metadata": {},
   "source": [
    "## Introduction/Business Problem section"
   ]
  },
  {
   "cell_type": "markdown",
   "metadata": {},
   "source": [
    "### In this Assignment, I am focusing on identifying the best places in Pune where we can start a new Restaurant.\n",
    "### In Identifying the places, I will be focusing on the below factors:\n",
    "    \n",
    "####    (a) Check if it is a tourist place, if yes, identify the frequency and type of tourist that visits that place.\n",
    "####          Also we will identify if the tourists belong to some particular age group or location.\n",
    "####         Then identifying their food preference and opening our restaurant on that line.\n",
    "    \n",
    "####    (b) Alternatively we will also focus on regular places of visits for local public of the city.\n",
    "####         And try to find their preferences of food and building the restaurant menu on that line.\n",
    "        \n",
    "####    (c) Using the data, we will also try to find if it is a better option to open a restaurant or Coffee shop at a particular location."
   ]
  },
  {
   "cell_type": "markdown",
   "metadata": {},
   "source": [
    "## Data section"
   ]
  },
  {
   "cell_type": "markdown",
   "metadata": {},
   "source": [
    "### The Factors we will be focusing on to complete our Business requirement are as follows:\n",
    "####    (a) Location: Tourist or Local locations of Interest.\n",
    "####    (b) Age: The age of visitors visiting the places.\n",
    "####    (c) Day/Time: During which time of year and at what time of day, people prefer to visit the palce.\n",
    "####    (d) Gender: Who prefers to visit the place, 'Male', 'Female'.\n",
    "####    (e) Income: What is the average income of people visiting the place."
   ]
  },
  {
   "cell_type": "markdown",
   "metadata": {},
   "source": [
    "Start the assignment."
   ]
  },
  {
   "cell_type": "code",
   "execution_count": null,
   "metadata": {},
   "outputs": [],
   "source": []
  }
 ],
 "metadata": {
  "kernelspec": {
   "display_name": "Python 3",
   "language": "python",
   "name": "python3"
  },
  "language_info": {
   "codemirror_mode": {
    "name": "ipython",
    "version": 3
   },
   "file_extension": ".py",
   "mimetype": "text/x-python",
   "name": "python",
   "nbconvert_exporter": "python",
   "pygments_lexer": "ipython3",
   "version": "3.6.5"
  }
 },
 "nbformat": 4,
 "nbformat_minor": 2
}
